{
 "cells": [
  {
   "cell_type": "code",
   "execution_count": 10,
   "metadata": {},
   "outputs": [],
   "source": [
    "from git import Repo\n",
    "from os import walk\n",
    "import shutil\n",
    "import json\n",
    "import os"
   ]
  },
  {
   "cell_type": "code",
   "execution_count": 4,
   "metadata": {},
   "outputs": [],
   "source": [
    "reset = False\n",
    "repo = 'clone'\n",
    "\n",
    "if reset == True:\n",
    "    shutil.rmtree(repo)\n",
    "\n",
    "isExist = os.path.exists('clone')\n",
    "\n",
    "if not isExist:\n",
    "   os.makedirs(repo)\n",
    "   git_url = 'https://github.com/tategallery/collection.git/'\n",
    "   repo_dir = os.getcwd() + '/clone'\n",
    "   Repo.clone_from(git_url, repo_dir)"
   ]
  },
  {
   "cell_type": "code",
   "execution_count": 36,
   "metadata": {},
   "outputs": [],
   "source": [
    "def extract_json(path: str):\n",
    "    json_list = []\n",
    "    for dirpath, dirname, filename in walk(path):\n",
    "        for x in filename:\n",
    "            if x.endswith(\".json\"):\n",
    "                json_list.append(os.path.join(dirpath, x))\n",
    "    return json_list\n",
    "\n",
    "artists_files = extract_json('clone/artists')\n",
    "artwork_files = extract_json('clone/artworks')\n",
    "processed_files = extract_json('clone/processed')"
   ]
  },
  {
   "cell_type": "code",
   "execution_count": 37,
   "metadata": {},
   "outputs": [],
   "source": [
    "import pandas as pd\n",
    "\n",
    "def list_to_df(list):\n",
    "    dfs = pd.DataFrame()\n",
    "    for file in list:\n",
    "\n",
    "        # Load the JSON data from file\n",
    "        with open(file) as f:\n",
    "            json_data = json.load(f)\n",
    "\n",
    "        # Convert the JSON data to a pandas DataFrame\n",
    "        df = pd.json_normalize(json_data)\n",
    "        df['json_path'] = file\n",
    "        df['dict'] = file.split('/')[-4]\n",
    "        df['dict_sub'] = file.split('/')[-3]\n",
    "        df['dict_sub_sub'] = file.split('/')[-2]\n",
    "        df['file_name'] = file.split('/')[-1]\n",
    "\n",
    "        dfs = pd.concat([dfs, df], ignore_index=True) # concatenate all the data frames in the list.\n",
    "    return dfs\n",
    "\n",
    "artists_df = list_to_df(artists_files)\n",
    "artwork_df = list_to_df(artwork_files)\n",
    "processed_df = list_to_df(processed_files)"
   ]
  },
  {
   "cell_type": "code",
   "execution_count": 41,
   "metadata": {},
   "outputs": [],
   "source": [
    "artists_df.to_csv(\"artists_df.csv\")\n",
    "artwork_df.to_csv(\"artwork_df.csv\")\n",
    "processed_df.to_csv(\"processed_df.csv\")"
   ]
  }
 ],
 "metadata": {
  "kernelspec": {
   "display_name": "pandas_env",
   "language": "python",
   "name": "python3"
  },
  "language_info": {
   "codemirror_mode": {
    "name": "ipython",
    "version": 3
   },
   "file_extension": ".py",
   "mimetype": "text/x-python",
   "name": "python",
   "nbconvert_exporter": "python",
   "pygments_lexer": "ipython3",
   "version": "3.9.12"
  },
  "orig_nbformat": 4,
  "vscode": {
   "interpreter": {
    "hash": "c65f6705742fa1ffb66a8d13023e0ff7e98f925180944521e36dce08e54b2db0"
   }
  }
 },
 "nbformat": 4,
 "nbformat_minor": 2
}
